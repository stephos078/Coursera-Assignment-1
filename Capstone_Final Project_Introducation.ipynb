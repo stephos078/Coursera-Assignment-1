{
    "cells": [
        {
            "cell_type": "markdown",
            "metadata": {
                "collapsed": true
            },
            "source": "# IBM Data Science Capstone"
        },
        {
            "cell_type": "markdown",
            "metadata": {},
            "source": "## Introduction"
        },
        {
            "cell_type": "markdown",
            "metadata": {},
            "source": "In this project, I developed an application that would help students at the University of Toronto explore the cafes/restaurants near the school and the entire downtown Toronto area. As an international student at the U of T myself, I had trouble finding good food around the campus, and I would have appreciated an application that lists a variety of options and creates a visual for me. My application also groups 37 neigborhoods in downtown Toronto into 5 areas and serves as a guide for students who are interested in exploring some of the city's most popular venues."
        },
        {
            "cell_type": "markdown",
            "metadata": {},
            "source": "## Data"
        },
        {
            "cell_type": "markdown",
            "metadata": {},
            "source": "I used location data from Foursuqare and Toronto Postal Code,Borough and Neighhorhood information from Wikipedia.\n\nIn the first part of the project, I explored the cafes/restaurants near the University of Toronto.\nIn the second part, I examinde clusters within the downtown Toronto areas and provide obersavations for each cluster. I also normalized the dataset to help interpret features with different magnitudes and distributions equally.\n\nI only included venues in the downtown as it is where most of the venues worth visiting are concentrated in. Plus, most of students who are originally from outside Toronto live in the downtown area, so I only focused on the venues that are most relevant to them."
        },
        {
            "cell_type": "code",
            "execution_count": null,
            "metadata": {},
            "outputs": [],
            "source": ""
        }
    ],
    "metadata": {
        "kernelspec": {
            "display_name": "Python 3.6",
            "language": "python",
            "name": "python3"
        },
        "language_info": {
            "codemirror_mode": {
                "name": "ipython",
                "version": 3
            },
            "file_extension": ".py",
            "mimetype": "text/x-python",
            "name": "python",
            "nbconvert_exporter": "python",
            "pygments_lexer": "ipython3",
            "version": "3.6.9"
        }
    },
    "nbformat": 4,
    "nbformat_minor": 1
}